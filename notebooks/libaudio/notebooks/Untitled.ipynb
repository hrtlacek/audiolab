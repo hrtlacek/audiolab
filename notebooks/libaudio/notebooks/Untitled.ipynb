{
 "cells": [
  {
   "cell_type": "code",
   "execution_count": 1,
   "id": "reduced-trading",
   "metadata": {},
   "outputs": [],
   "source": [
    "# from libaudio import *"
   ]
  },
  {
   "cell_type": "code",
   "execution_count": 2,
   "id": "correct-bunch",
   "metadata": {},
   "outputs": [],
   "source": [
    "import libaudio as la"
   ]
  },
  {
   "cell_type": "code",
   "execution_count": 4,
   "id": "lyric-local",
   "metadata": {},
   "outputs": [
    {
     "data": {
      "text/plain": [
       "-3.010299956639812"
      ]
     },
     "execution_count": 4,
     "metadata": {},
     "output_type": "execute_result"
    }
   ],
   "source": [
    "la.powerToDb(0.5)"
   ]
  },
  {
   "cell_type": "code",
   "execution_count": null,
   "id": "small-washington",
   "metadata": {},
   "outputs": [],
   "source": [
    "bandpower()"
   ]
  },
  {
   "cell_type": "code",
   "execution_count": null,
   "id": "inclusive-frost",
   "metadata": {},
   "outputs": [],
   "source": [
    "spectral."
   ]
  }
 ],
 "metadata": {
  "kernelspec": {
   "display_name": "Python 3",
   "language": "python",
   "name": "python3"
  },
  "language_info": {
   "codemirror_mode": {
    "name": "ipython",
    "version": 3
   },
   "file_extension": ".py",
   "mimetype": "text/x-python",
   "name": "python",
   "nbconvert_exporter": "python",
   "pygments_lexer": "ipython3",
   "version": "3.7.4"
  }
 },
 "nbformat": 4,
 "nbformat_minor": 5
}
