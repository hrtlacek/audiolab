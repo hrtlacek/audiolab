{
 "cells": [
  {
   "cell_type": "markdown",
   "metadata": {},
   "source": [
    "# faustWidgets\n",
    "by Patrik Lechner"
   ]
  },
  {
   "cell_type": "code",
   "execution_count": 1,
   "metadata": {},
   "outputs": [],
   "source": [
    "import matplotlib.pyplot as plt\n",
    "import numpy as np\n",
    "import FAUSTPy\n",
    "import faustWidgets"
   ]
  },
  {
   "cell_type": "code",
   "execution_count": 2,
   "metadata": {},
   "outputs": [],
   "source": [
    "sr = 44100\n",
    "nyq = sr/2"
   ]
  },
  {
   "cell_type": "markdown",
   "metadata": {},
   "source": [
    "## Synth Example"
   ]
  },
  {
   "cell_type": "code",
   "execution_count": 3,
   "metadata": {},
   "outputs": [
    {
     "name": "stdout",
     "output_type": "stream",
     "text": [
      "import(\"stdfaust.lib\");\n",
      "\n",
      "myFreq = hslider(\"myFreqPar\",100,10,1000,0.1);\n",
      "offset = hslider(\"offsetPar\",0,-1,1,0.1);\n",
      "amp = hslider(\"test\",0.5,0,10,0.1);\n",
      "sinosc = os.osc(myFreq);\n",
      "outp =sinosc+offset;\n",
      "process = outp*amp:ma.tanh;\n"
     ]
    }
   ],
   "source": [
    "!cat synthTest.dsp"
   ]
  },
  {
   "cell_type": "code",
   "execution_count": 4,
   "metadata": {},
   "outputs": [],
   "source": [
    "faustObject = FAUSTPy.FAUST(\"synthTest.dsp\", sr)"
   ]
  },
  {
   "cell_type": "markdown",
   "metadata": {},
   "source": [
    "The test file is a distorted sine wave oscillator. \n",
    "\n",
    "- The oscillators Frequency can be controlled\n",
    "- a constant DC offset can be added\n",
    "- the amplifictaion before it's running into a standard $tanh$ distortion can be controlled. \n",
    "\n",
    "\n",
    "![block diaram](simpleTest-svg/process.svg)"
   ]
  },
  {
   "cell_type": "code",
   "execution_count": 5,
   "metadata": {},
   "outputs": [
    {
     "data": {
      "application/vnd.jupyter.widget-view+json": {
       "model_id": "a18ef7f853604029a8538c58e4b58f56",
       "version_major": 2,
       "version_minor": 0
      },
      "text/plain": [
       "HBox(children=(FloatSlider(value=100.0, description='p_myFreqPar', max=1000.0, min=10.0, readout_format='.1f',…"
      ]
     },
     "metadata": {},
     "output_type": "display_data"
    },
    {
     "data": {
      "application/vnd.jupyter.widget-view+json": {
       "model_id": "a952ae5773684636afe98d3f1579d8e1",
       "version_major": 2,
       "version_minor": 0
      },
      "text/plain": [
       "Output()"
      ]
     },
     "metadata": {},
     "output_type": "display_data"
    }
   ],
   "source": [
    "faustWidgets.getWidgets(faustObject)"
   ]
  },
  {
   "cell_type": "markdown",
   "metadata": {},
   "source": [
    "## Effect Example\n",
    "A Lowpass Filter\n",
    "\n",
    "![block diaram](effectTest-svg/process.svg)"
   ]
  },
  {
   "cell_type": "code",
   "execution_count": 6,
   "metadata": {},
   "outputs": [],
   "source": [
    "faustEffect = FAUSTPy.FAUST(\"effectTest.dsp\", sr)"
   ]
  },
  {
   "cell_type": "code",
   "execution_count": 7,
   "metadata": {},
   "outputs": [
    {
     "data": {
      "application/vnd.jupyter.widget-view+json": {
       "model_id": "b2f2cbf6d0c24460bb0d2cacd88f7741",
       "version_major": 2,
       "version_minor": 0
      },
      "text/plain": [
       "HBox(children=(FloatSlider(value=100.0, description='p_cutoff', max=10000.0, min=10.0, readout_format='.1f', s…"
      ]
     },
     "metadata": {},
     "output_type": "display_data"
    },
    {
     "data": {
      "application/vnd.jupyter.widget-view+json": {
       "model_id": "a4f1163a07af41e2a4b45c40d96a3493",
       "version_major": 2,
       "version_minor": 0
      },
      "text/plain": [
       "Output()"
      ]
     },
     "metadata": {},
     "output_type": "display_data"
    }
   ],
   "source": [
    "impulse = np.zeros(1000)\n",
    "impulse[100] = 1\n",
    "x = impulse\n",
    "faustWidgets.getWidgets(faustEffect, x = x)"
   ]
  },
  {
   "cell_type": "markdown",
   "metadata": {},
   "source": [
    "## Custom Plot Functions"
   ]
  },
  {
   "cell_type": "code",
   "execution_count": 8,
   "metadata": {},
   "outputs": [],
   "source": [
    "def myPlot(x):\n",
    "    N = len(x)\n",
    "    n2 = int(N/2)\n",
    "    faxis = np.linspace(0,nyq,n2)\n",
    "    plt.semilogx(faxis, 20*np.log10(abs(np.fft.fft(x.flatten())))[:n2])\n",
    "    plt.grid()\n",
    "    plt.show()\n",
    "    return"
   ]
  },
  {
   "cell_type": "code",
   "execution_count": 9,
   "metadata": {},
   "outputs": [
    {
     "data": {
      "application/vnd.jupyter.widget-view+json": {
       "model_id": "c86356ebd776417cbcc22c29a59806b8",
       "version_major": 2,
       "version_minor": 0
      },
      "text/plain": [
       "HBox(children=(FloatSlider(value=100.0, description='p_myFreqPar', max=1000.0, min=10.0, readout_format='.1f',…"
      ]
     },
     "metadata": {},
     "output_type": "display_data"
    },
    {
     "data": {
      "application/vnd.jupyter.widget-view+json": {
       "model_id": "e3f3c223668840889a560632c380ce8b",
       "version_major": 2,
       "version_minor": 0
      },
      "text/plain": [
       "Output()"
      ]
     },
     "metadata": {},
     "output_type": "display_data"
    }
   ],
   "source": [
    "faustWidgets.getWidgets(faustObject, plotFun=myPlot, nSamps=4410)"
   ]
  },
  {
   "cell_type": "code",
   "execution_count": 10,
   "metadata": {},
   "outputs": [],
   "source": [
    "def myPlot2(x):\n",
    "    plt.specgram(x.flatten(), Fs=44100)\n",
    "    plt.grid()\n",
    "    plt.show()\n",
    "    return\n"
   ]
  },
  {
   "cell_type": "code",
   "execution_count": 11,
   "metadata": {},
   "outputs": [
    {
     "data": {
      "application/vnd.jupyter.widget-view+json": {
       "model_id": "18f568e5dc8042a5bc5f1172eadfc731",
       "version_major": 2,
       "version_minor": 0
      },
      "text/plain": [
       "HBox(children=(FloatSlider(value=100.0, description='p_myFreqPar', max=1000.0, min=10.0, readout_format='.1f',…"
      ]
     },
     "metadata": {},
     "output_type": "display_data"
    },
    {
     "data": {
      "application/vnd.jupyter.widget-view+json": {
       "model_id": "0223ad15bc8b452393db2eec75e4a1dc",
       "version_major": 2,
       "version_minor": 0
      },
      "text/plain": [
       "Output()"
      ]
     },
     "metadata": {},
     "output_type": "display_data"
    }
   ],
   "source": [
    "faustWidgets.getWidgets(faustObject, plotFun=myPlot2, nSamps=44100)"
   ]
  },
  {
   "cell_type": "markdown",
   "metadata": {},
   "source": [
    "## Using the Widget values in the Plot\n",
    "the widget's values are acessible in the plot function if it is constructed to take a second argument. Here, a dictionary with the parameters is passed.\n",
    "this way, a comparison between a python dsp algorithm and FAUST implementation can be shown."
   ]
  },
  {
   "cell_type": "code",
   "execution_count": 12,
   "metadata": {},
   "outputs": [],
   "source": [
    "import scipy.signal as sig"
   ]
  },
  {
   "cell_type": "code",
   "execution_count": 13,
   "metadata": {},
   "outputs": [
    {
     "name": "stdout",
     "output_type": "stream",
     "text": [
      "import(\"stdfaust.lib\");\n",
      "N = 1;\n",
      "fc = hslider(\"cutoff\", 100, 10, 10000, 0.1);\n",
      "process = fi.lowpass(N,fc);\n"
     ]
    }
   ],
   "source": [
    "!cat effectTest.dsp"
   ]
  },
  {
   "cell_type": "code",
   "execution_count": 14,
   "metadata": {},
   "outputs": [],
   "source": [
    "def myComparePlot(x, pardict):\n",
    "#     print(x)\n",
    "    nyq = 22050\n",
    "    Wn = pardict['p_cutoff']/nyq\n",
    "    ba = sig.butter(1,Wn)\n",
    "    imp = np.zeros_like(x)\n",
    "    imp[10] = 1\n",
    "    y = sig.lfilter(ba[0],ba[1],x)\n",
    "    plt.plot(y,'k', label='python')\n",
    "    plt.plot(x,'r--', label='faust')\n",
    "    plt.legend()\n",
    "    plt.ylim([-0.1,1])\n",
    "    plt.grid()\n",
    "    plt.show()\n",
    "    return\n"
   ]
  },
  {
   "cell_type": "code",
   "execution_count": 15,
   "metadata": {},
   "outputs": [
    {
     "data": {
      "application/vnd.jupyter.widget-view+json": {
       "model_id": "70ac22d0e900480abd15363b391846bc",
       "version_major": 2,
       "version_minor": 0
      },
      "text/plain": [
       "HBox(children=(FloatSlider(value=100.0, description='p_cutoff', max=10000.0, min=10.0, readout_format='.1f', s…"
      ]
     },
     "metadata": {},
     "output_type": "display_data"
    },
    {
     "data": {
      "application/vnd.jupyter.widget-view+json": {
       "model_id": "f8e41f4040cd43bd8eb2b22e7e5f6b47",
       "version_major": 2,
       "version_minor": 0
      },
      "text/plain": [
       "Output()"
      ]
     },
     "metadata": {},
     "output_type": "display_data"
    }
   ],
   "source": [
    "impulse = np.zeros(50)\n",
    "impulse[10] = 1\n",
    "x = impulse\n",
    "faustWidgets.getWidgets(faustEffect, x = x, plotFun=myComparePlot)"
   ]
  }
 ],
 "metadata": {
  "kernelspec": {
   "display_name": "Python3 (findRef)",
   "language": "python",
   "name": "findrefrain3"
  },
  "language_info": {
   "codemirror_mode": {
    "name": "ipython",
    "version": 3
   },
   "file_extension": ".py",
   "mimetype": "text/x-python",
   "name": "python",
   "nbconvert_exporter": "python",
   "pygments_lexer": "ipython3",
   "version": "3.6.3"
  }
 },
 "nbformat": 4,
 "nbformat_minor": 2
}
