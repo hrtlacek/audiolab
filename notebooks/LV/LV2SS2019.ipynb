{
 "cells": [
  {
   "cell_type": "code",
   "execution_count": null,
   "metadata": {},
   "outputs": [],
   "source": []
  },
  {
   "cell_type": "markdown",
   "metadata": {},
   "source": [
    "Faust code for Schroeder reverberator (coefficients are wrong, structure is more or less right\n",
    "\n",
    "http://www2.ece.rochester.edu/~zduan/teaching/ece472/reading/Schroeder_1962.pdf\n",
    "\n",
    "```\n",
    "import(\"stdfaust.lib\");\n",
    "imp = 1<:_,_':-;\n",
    "\n",
    "ap(t) = fi.allpass_comb(65536, t, 0.9);\n",
    "\n",
    "apRev = ap(3456):ap(75987):ap(14359):ap(30557);\n",
    "\n",
    "del = de.delay(65536, 2050);\n",
    "fbgain = 0.9;\n",
    "fbSection = (+:del:apRev)~(_*fbgain);\n",
    "g = 0.5;\n",
    "process = imp<:_,_:_*g,fbSection:_,_*(1-g):+;\n",
    "\n",
    "```"
   ]
  },
  {
   "cell_type": "code",
   "execution_count": null,
   "metadata": {},
   "outputs": [],
   "source": []
  }
 ],
 "metadata": {
  "kernelspec": {
   "display_name": "Python3 (findRef)",
   "language": "python",
   "name": "findrefrain3"
  },
  "language_info": {
   "codemirror_mode": {
    "name": "ipython",
    "version": 3
   },
   "file_extension": ".py",
   "mimetype": "text/x-python",
   "name": "python",
   "nbconvert_exporter": "python",
   "pygments_lexer": "ipython3",
   "version": "3.6.3"
  }
 },
 "nbformat": 4,
 "nbformat_minor": 2
}
