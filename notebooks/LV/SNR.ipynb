{
 "cells": [
  {
   "cell_type": "markdown",
   "id": "under-brief",
   "metadata": {},
   "source": [
    "# Signal to Noise Ratio (SNR)\n",
    "\n",
    "## Basic Definition\n",
    "The main idea is to make a *ratio* between signal power to noise power.\n",
    "\n",
    "$$ SNR = \\frac{P_{signal}}{P_{noise}} $$\n",
    "\n",
    "So we need to measure the *power* $P(x)$ of a signal $x$,  via:\n",
    "\n",
    "$$P(x)=1/N \\cdot \\displaystyle\\sum_{n=0}^{N-1}x(n)^2$$\n",
    "\n",
    "Which is simply taking the square of the signal and then the average.\n",
    "We can then calculate the $SNR$ via the power ratios:\n",
    "\n",
    "$$ SNR = \\frac{P_{signal}}{P_{noise}}$$\n",
    "\n",
    "Typically we want to have the values in dB. Since we have power signals alread we need to use \n",
    "\n",
    "$$P_{db} = 10 \\cdot log_{10} (P) $$\n",
    "\n",
    "So\n",
    "$$ SNR_{db} = 10 \\log_{10} \\frac{P_{signal}}{P_{noise}}$$\n",
    "\n",
    "This is it. Actually, we can also convert the power levels first to dB and then subtract (subtracting to logarithmic values is the same as dividing to linear ones):\n",
    "\n",
    "\n",
    "$$ \n",
    "10 \\log_{10} \\left ( \\frac{P_\\mathrm{signal}}{P_\\mathrm{noise}} \\right ) = 10 \\log_{10} \\left ( P_\\mathrm{signal} \\right ) - 10 \\log_{10} \\left ( P_\\mathrm{noise} \\right )\n",
    "$$\n",
    "\n",
    "\n",
    "## Measuring\n",
    "\n",
    "### Method 1\n",
    "Sometimes, the question arises how to get the noise and the Signal separately.\n",
    "One method is to measure the constant noise power a device *produces without an input*, let's call that $P_n$ and measure the power of the output of a device *with* an input, lets call that $P_s$. By subtraction of the powers, we can estimate the power of the signal alone and therefore the ratio between signal and noise power (assuming noise power stays constant).     \n",
    "\n",
    "$$ SNR_{db}=10 \\cdot \\log_{10} \\frac {P_s - P_n}{P_n}$$\n",
    "\n",
    "- $P(s)$ is a function that computes the power of a signal.\n",
    "- $P_s$ in this case is the power of the signal + the noise, typically the output of the system we want to measure **with** an input signal.\n",
    "- $P_n$ in this case is the power of just the noise, typically the output of the system we want to measure **without** an input signal.\n",
    "\n",
    "### Method 2\n",
    "Another method is to try to make the system as clean as possible (eg bypass or similar *at unity gain!*), measure input signal power $P_i$ and output signal power $P_o$ and just assume that the difference between them is the level of noise being added:\n",
    "$$ P_n = P_o - P_i $$\n",
    "The rest of the comutation stays the same as Method 1.\n",
    "\n",
    "\n",
    "### Method 3: Spectral\n",
    "\n",
    "### Method 4: Standard deviation \n",
    "This method can be found all over the internet but is not so interesting for us. \n",
    "e.g. `scipy.stats.signaltonoise()`\n",
    "The idea is to  *[TODO]*\n",
    "\n",
    "\n",
    "## refs:\n",
    "- https://en.wikipedia.org/wiki/Signal-to-noise_ratio\n",
    "- https://de.mathworks.com/help/signal/ref/snr.html\n",
    "- https://dsp.stackexchange.com/questions/17871/how-to-calculate-signal-to-noise-ratio\n",
    "\n"
   ]
  },
  {
   "cell_type": "markdown",
   "id": "needed-paintball",
   "metadata": {},
   "source": [
    "# Setup"
   ]
  },
  {
   "cell_type": "code",
   "execution_count": 1,
   "id": "religious-arrest",
   "metadata": {},
   "outputs": [
    {
     "name": "stdout",
     "output_type": "stream",
     "text": [
      "Populating the interactive namespace from numpy and matplotlib\n"
     ]
    }
   ],
   "source": [
    "%pylab inline"
   ]
  },
  {
   "cell_type": "code",
   "execution_count": 2,
   "id": "acoustic-armenia",
   "metadata": {},
   "outputs": [],
   "source": [
    "import seaborn as sn"
   ]
  },
  {
   "cell_type": "code",
   "execution_count": 3,
   "id": "proved-physics",
   "metadata": {},
   "outputs": [],
   "source": [
    "sn.set_theme()"
   ]
  },
  {
   "cell_type": "code",
   "execution_count": 4,
   "id": "parallel-gregory",
   "metadata": {},
   "outputs": [],
   "source": [
    "def exampleSystem(x, noiseAmount =-50):\n",
    "    N = len(x)\n",
    "    noise = (random.random(N)*2-1) * 10**(noiseAmount/10) \n",
    "    y = x+noise\n",
    "    return y"
   ]
  },
  {
   "cell_type": "code",
   "execution_count": 5,
   "id": "abstract-dependence",
   "metadata": {},
   "outputs": [],
   "source": [
    "sr = 48000\n",
    "T = 0.1 #seconds\n",
    "N = int(T*sr)\n",
    "n = arange(N)\n",
    "t = n/sr\n",
    "\n",
    "silence = zeros(N)"
   ]
  },
  {
   "cell_type": "code",
   "execution_count": 6,
   "id": "spanish-child",
   "metadata": {},
   "outputs": [],
   "source": [
    "noiseOnly = exampleSystem(silence) #system Output without signal at input"
   ]
  },
  {
   "cell_type": "code",
   "execution_count": 7,
   "id": "structured-abortion",
   "metadata": {},
   "outputs": [
    {
     "data": {
      "text/plain": [
       "[<matplotlib.lines.Line2D at 0x7fdeac4a4150>]"
      ]
     },
     "execution_count": 7,
     "metadata": {},
     "output_type": "execute_result"
    },
    {
     "data": {
      "image/png": "[encoded data removed]",
      "text/plain": [
       "<Figure size 432x288 with 1 Axes>"
      ]
     },
     "metadata": {},
     "output_type": "display_data"
    }
   ],
   "source": [
    "plot(noiseOnly)"
   ]
  },
  {
   "cell_type": "code",
   "execution_count": 8,
   "id": "transsexual-shore",
   "metadata": {},
   "outputs": [],
   "source": [
    "freq = 1000 #Hz\n",
    "exampleInput = sin(2*pi*freq*t)"
   ]
  },
  {
   "cell_type": "code",
   "execution_count": 9,
   "id": "careful-synthesis",
   "metadata": {},
   "outputs": [],
   "source": [
    "exampleOutput = exampleSystem(exampleInput)"
   ]
  },
  {
   "cell_type": "code",
   "execution_count": 10,
   "id": "separated-moderator",
   "metadata": {},
   "outputs": [
    {
     "data": {
      "text/plain": [
       "[<matplotlib.lines.Line2D at 0x7fdeab7a8810>]"
      ]
     },
     "execution_count": 10,
     "metadata": {},
     "output_type": "execute_result"
    },
    {
     "data": {
      "image/png": "[encoded data removed]",
      "text/plain": [
       "<Figure size 432x288 with 1 Axes>"
      ]
     },
     "metadata": {},
     "output_type": "display_data"
    }
   ],
   "source": [
    "plot(exampleOutput)"
   ]
  },
  {
   "cell_type": "markdown",
   "id": "pregnant-christianity",
   "metadata": {},
   "source": [
    "# Method 1 & 2"
   ]
  },
  {
   "cell_type": "code",
   "execution_count": 11,
   "id": "center-organ",
   "metadata": {},
   "outputs": [],
   "source": [
    "def signalPower(x):\n",
    "    return average(x**2)"
   ]
  },
  {
   "cell_type": "code",
   "execution_count": 12,
   "id": "worthy-bermuda",
   "metadata": {},
   "outputs": [],
   "source": [
    "def SNR(signal, noise):\n",
    "    powS = signalPower(signal)\n",
    "    powN = signalPower(noise)\n",
    "    return 10*log10((powS-powN)/powN)"
   ]
  },
  {
   "cell_type": "code",
   "execution_count": 13,
   "id": "current-massachusetts",
   "metadata": {},
   "outputs": [],
   "source": [
    "def SNRsystem(inputSig, outputSig):\n",
    "    noise = outputSig-inputSig\n",
    "    \n",
    "    powS = signalPower(outputSig)\n",
    "    powN = signalPower(noise)\n",
    "    return 10*log10((powS-powN)/powN)"
   ]
  },
  {
   "cell_type": "code",
   "execution_count": 14,
   "id": "negative-blake",
   "metadata": {},
   "outputs": [
    {
     "data": {
      "text/plain": [
       "101.69746629474247"
      ]
     },
     "execution_count": 14,
     "metadata": {},
     "output_type": "execute_result"
    }
   ],
   "source": [
    "SNR(exampleOutput,noiseOnly)"
   ]
  },
  {
   "cell_type": "code",
   "execution_count": 15,
   "id": "banner-grocery",
   "metadata": {},
   "outputs": [
    {
     "data": {
      "text/plain": [
       "101.86391265408751"
      ]
     },
     "execution_count": 15,
     "metadata": {},
     "output_type": "execute_result"
    }
   ],
   "source": [
    "SNRsystem(exampleInput,exampleOutput)"
   ]
  },
  {
   "cell_type": "markdown",
   "id": "average-forwarding",
   "metadata": {},
   "source": [
    "# Method 3: Spectral\n",
    "## TODO\n",
    "- Working, but needs clean-up\n",
    "- can't deal with harmonics, need to detect them like fundamental, take them out, etc.\n",
    "\n",
    "If N doubles, measured noise level in spectrogram goes down by 3 dB.\n",
    "\n",
    "- https://de.mathworks.com/help/signal/ref/bandpower.html\n",
    "- http://classes.engr.oregonstate.edu/eecs/spring2017/ece627/Lecture%20Notes/FFT%20for%20delta-sigma%20spectrum%20estimation.pdf\n",
    "- https://de.mathworks.com/help/signal/ref/snr.html\n",
    "- https://training.ti.com/sites/default/files/docs/TIPL%204703%20-%20Understanding%20Signal%20to%20Noise%20Ratio%20and%20Noise%20Spectral%20Density%20in%20High%20Speed%20Datat%20Converters_3.pdf"
   ]
  },
  {
   "cell_type": "code",
   "execution_count": 16,
   "id": "institutional-mattress",
   "metadata": {},
   "outputs": [],
   "source": [
    "from scipy.stats import norm\n",
    "np.random.seed(1) #reproducability"
   ]
  },
  {
   "cell_type": "code",
   "execution_count": 17,
   "id": "formed-mailman",
   "metadata": {},
   "outputs": [],
   "source": [
    "# matlab like randn function, for comparison reasons with matlab code. Only needed to create test signal.\n",
    "matlabRandn = lambda n:norm.ppf(np.random.rand(1,n)).flatten()"
   ]
  },
  {
   "cell_type": "code",
   "execution_count": 18,
   "id": "median-equity",
   "metadata": {},
   "outputs": [],
   "source": [
    "A = 1.0\n",
    "a = 0.0\n",
    "s = 0.1\n",
    "powFund = A**2/2\n",
    "powHarm = a**2/2\n",
    "varnoise = s**2\n",
    "f0 = 9000#*(sr/2)\n",
    "h1 = 20000\n",
    "x = A * cos(pi*2*f0*t)+a*sin(pi*2*t*h1)+s*matlabRandn(len(t))\n",
    "x = tanh(x*2)"
   ]
  },
  {
   "cell_type": "code",
   "execution_count": 19,
   "id": "narrow-institution",
   "metadata": {},
   "outputs": [],
   "source": [
    "x = x-mean(x) #remove DC first!!"
   ]
  },
  {
   "cell_type": "code",
   "execution_count": 20,
   "id": "three-cathedral",
   "metadata": {},
   "outputs": [
    {
     "name": "stdout",
     "output_type": "stream",
     "text": [
      "SNR by definition, not computation: 16.989700043360187 dB\n"
     ]
    }
   ],
   "source": [
    "defSNR = 10*log10(powFund/varnoise)\n",
    "print('SNR by definition, not computation: {} dB'.format(defSNR))"
   ]
  },
  {
   "cell_type": "code",
   "execution_count": 21,
   "id": "asian-pricing",
   "metadata": {},
   "outputs": [
    {
     "data": {
      "text/plain": [
       "[<matplotlib.lines.Line2D at 0x7fdeab6b72d0>]"
      ]
     },
     "execution_count": 21,
     "metadata": {},
     "output_type": "execute_result"
    },
    {
     "data": {
      "image/png": "[encoded data removed]",
      "text/plain": [
       "<Figure size 432x288 with 1 Axes>"
      ]
     },
     "metadata": {},
     "output_type": "display_data"
    }
   ],
   "source": [
    "plot(x)"
   ]
  },
  {
   "cell_type": "code",
   "execution_count": 22,
   "id": "dimensional-utilization",
   "metadata": {},
   "outputs": [],
   "source": [
    "# spec = fft.rfft(exampleOutput,norm='ortho')\n",
    "# \n",
    "# magnitude = abs(spec)\n",
    "# powerSpec = magnitude**2\n",
    "# dbPow = 20*log10(powerSpec)"
   ]
  },
  {
   "cell_type": "code",
   "execution_count": 23,
   "id": "private-advantage",
   "metadata": {},
   "outputs": [],
   "source": [
    "# fundamentalBin = peakdetect.detect_peaks(magnitude,threshold=100)\n",
    "# fundamentalFreq = (fundamentalBin/len(spec-1))*(sr/2)"
   ]
  },
  {
   "cell_type": "code",
   "execution_count": 24,
   "id": "heated-anthony",
   "metadata": {},
   "outputs": [],
   "source": [
    "# stem(freqAxis, dbPow, label= 'mag spectrum')\n",
    "# scatter(fundamentalFreq, dbMag[fundamentalBin], marker='x', color='r',label='peak')\n",
    "# xlim([0,100])\n",
    "# legend()"
   ]
  },
  {
   "cell_type": "code",
   "execution_count": 25,
   "id": "stretch-resort",
   "metadata": {},
   "outputs": [],
   "source": [
    "import scipy.signal as sig"
   ]
  },
  {
   "cell_type": "code",
   "execution_count": 26,
   "id": "strange-birmingham",
   "metadata": {},
   "outputs": [],
   "source": [
    "# f, Pxx_spec = sig.welch(exampleOutput,fs=sr)"
   ]
  },
  {
   "cell_type": "code",
   "execution_count": 27,
   "id": "eligible-collect",
   "metadata": {},
   "outputs": [],
   "source": [
    "faxis,ps = sig.periodogram(x,fs=sr, window=('kaiser',38))#,scaling='spectrum')"
   ]
  },
  {
   "cell_type": "code",
   "execution_count": 28,
   "id": "opened-ranking",
   "metadata": {},
   "outputs": [
    {
     "data": {
      "text/plain": [
       "[<matplotlib.lines.Line2D at 0x7fdeaaef4cd0>]"
      ]
     },
     "execution_count": 28,
     "metadata": {},
     "output_type": "execute_result"
    },
    {
     "data": {
      "image/png": "[encoded data removed]",
      "text/plain": [
       "<Figure size 432x288 with 1 Axes>"
      ]
     },
     "metadata": {},
     "output_type": "display_data"
    }
   ],
   "source": [
    "plot(faxis,10*log10(ps))"
   ]
  },
  {
   "cell_type": "code",
   "execution_count": 29,
   "id": "unnecessary-fleece",
   "metadata": {},
   "outputs": [],
   "source": [
    "# t = linspace(0,1,1000);\n",
    "# x = cos(2*pi*100*t)+matlabRandn(len(t));\n",
    "# l2norm = linalg.norm(x)**2./len(x)"
   ]
  },
  {
   "cell_type": "code",
   "execution_count": 30,
   "id": "comparable-medicaid",
   "metadata": {},
   "outputs": [],
   "source": [
    "# l2norm"
   ]
  },
  {
   "cell_type": "code",
   "execution_count": 31,
   "id": "banner-desktop",
   "metadata": {},
   "outputs": [],
   "source": [
    "def bandpower(ps, mode='psd'):\n",
    "    \"\"\"\n",
    "    estimate bandpower, see https://de.mathworks.com/help/signal/ref/bandpower.html\n",
    "    \"\"\"\n",
    "    if mode=='time':\n",
    "        x = ps\n",
    "        l2norm = linalg.norm(x)**2./len(x)\n",
    "        return l2norm\n",
    "    elif mode == 'psd':\n",
    "        return sum(ps)        "
   ]
  },
  {
   "cell_type": "code",
   "execution_count": 32,
   "id": "explicit-johnson",
   "metadata": {},
   "outputs": [
    {
     "data": {
      "text/plain": [
       "[<matplotlib.lines.Line2D at 0x7fdeaae314d0>]"
      ]
     },
     "execution_count": 32,
     "metadata": {},
     "output_type": "execute_result"
    },
    {
     "data": {
      "image/png": "[encoded data removed]",
      "text/plain": [
       "<Figure size 432x288 with 1 Axes>"
      ]
     },
     "metadata": {},
     "output_type": "display_data"
    }
   ],
   "source": [
    "plot(faxis,10*log10(ps))"
   ]
  },
  {
   "cell_type": "code",
   "execution_count": 33,
   "id": "rocky-sucking",
   "metadata": {},
   "outputs": [],
   "source": [
    "# stem(dbMag, label= 'mag spectrum')\n",
    "# # scatter(fundamentalFreq, dbMag[fundamentalBin], marker='x', color='r',label='peak')\n",
    "# xlim([0,20])\n",
    "# legend()"
   ]
  },
  {
   "cell_type": "code",
   "execution_count": 34,
   "id": "secret-intervention",
   "metadata": {},
   "outputs": [],
   "source": [
    "def getIndizesAroundPeak(arr, peakIndex,searchWidth=1000):\n",
    "    peakBins = []\n",
    "    magMax = arr[peakIndex]\n",
    "    curVal = magMax\n",
    "    for i in range(searchWidth):\n",
    "        newBin = peakIndex+i\n",
    "        newVal = arr[newBin]\n",
    "        if newVal>curVal:\n",
    "            break\n",
    "        else:\n",
    "            peakBins.append(int(newBin))\n",
    "            curVal=newVal\n",
    "    curVal = magMax\n",
    "    for i in range(searchWidth):\n",
    "        newBin = peakIndex-i\n",
    "        newVal = arr[newBin]\n",
    "        if newVal>curVal:\n",
    "            break\n",
    "        else:\n",
    "            peakBins.append(int(newBin))\n",
    "            curVal=newVal\n",
    "    return array(list(set(peakBins)))\n",
    "\n"
   ]
  },
  {
   "cell_type": "code",
   "execution_count": 35,
   "id": "numeric-applicant",
   "metadata": {},
   "outputs": [],
   "source": [
    "def freqToBin(fAxis, Freq):\n",
    "    return argmin(abs(fAxis-Freq))\n",
    "\n",
    "def getPeakInArea(psd, faxis, estimation, searchWidthHz = 10):\n",
    "    \"\"\"\n",
    "    returns bin and frequency of the maximum in an area\n",
    "    \"\"\"\n",
    "    binLow = freqToBin(faxis, estimation-searchWidthHz)\n",
    "    binHi = freqToBin(faxis, estimation+searchWidthHz)\n",
    "    peakbin = binLow+argmax(psd[binLow:binHi])\n",
    "    return peakbin, faxis[peakbin]\n",
    "    "
   ]
  },
  {
   "cell_type": "code",
   "execution_count": 36,
   "id": "resident-oxide",
   "metadata": {},
   "outputs": [],
   "source": [
    "# sum(ps[fundIndizes])"
   ]
  },
  {
   "cell_type": "code",
   "execution_count": 37,
   "id": "approved-turner",
   "metadata": {},
   "outputs": [],
   "source": [
    "fundBin = argmax(ps) "
   ]
  },
  {
   "cell_type": "code",
   "execution_count": 38,
   "id": "hollywood-grenada",
   "metadata": {},
   "outputs": [
    {
     "data": {
      "text/plain": [
       "900"
      ]
     },
     "execution_count": 38,
     "metadata": {},
     "output_type": "execute_result"
    }
   ],
   "source": [
    "fundBin"
   ]
  },
  {
   "cell_type": "code",
   "execution_count": 39,
   "id": "steady-butler",
   "metadata": {},
   "outputs": [],
   "source": [
    "fundIndizes = getIndizesAroundPeak(ps,fundBin)"
   ]
  },
  {
   "cell_type": "code",
   "execution_count": 40,
   "id": "iraqi-incentive",
   "metadata": {},
   "outputs": [
    {
     "data": {
      "text/plain": [
       "array([896, 897, 898, 899, 900, 901, 902, 903, 904, 905, 906, 907, 908,\n",
       "       909, 894, 895])"
      ]
     },
     "execution_count": 40,
     "metadata": {},
     "output_type": "execute_result"
    }
   ],
   "source": [
    "fundIndizes"
   ]
  },
  {
   "cell_type": "code",
   "execution_count": 41,
   "id": "facial-clearance",
   "metadata": {},
   "outputs": [],
   "source": [
    "# getPeakInArea()"
   ]
  },
  {
   "cell_type": "code",
   "execution_count": 42,
   "id": "collect-toronto",
   "metadata": {},
   "outputs": [
    {
     "data": {
      "text/plain": [
       "896"
      ]
     },
     "execution_count": 42,
     "metadata": {},
     "output_type": "execute_result"
    }
   ],
   "source": [
    "fundIndizes[0]"
   ]
  },
  {
   "cell_type": "code",
   "execution_count": 43,
   "id": "alpha-arrival",
   "metadata": {},
   "outputs": [
    {
     "data": {
      "text/plain": [
       "(199, 1990.0)"
      ]
     },
     "execution_count": 43,
     "metadata": {},
     "output_type": "execute_result"
    }
   ],
   "source": [
    "getPeakInArea(ps,faxis,1999)"
   ]
  },
  {
   "cell_type": "code",
   "execution_count": 44,
   "id": "flying-myrtle",
   "metadata": {},
   "outputs": [
    {
     "data": {
      "text/plain": [
       "895"
      ]
     },
     "execution_count": 44,
     "metadata": {},
     "output_type": "execute_result"
    }
   ],
   "source": [
    "fundIndizes[-1]"
   ]
  },
  {
   "cell_type": "code",
   "execution_count": 45,
   "id": "creative-emerald",
   "metadata": {},
   "outputs": [],
   "source": [
    "def getCentralMoment(ps, faxis, fundBin,limL,limR):\n",
    "    fFund = faxis[fundIndizes]\n",
    "    sFund = faxis[fundIndizes]\n",
    "    cm = dot(fFund,sFund) / sum(sFund) \n",
    "    return cm\n",
    "\n",
    "cm = getCentralMoment(ps, faxis, fundBin, fundIndizes[0], fundIndizes[-1])"
   ]
  },
  {
   "cell_type": "code",
   "execution_count": 46,
   "id": "artistic-jacob",
   "metadata": {},
   "outputs": [],
   "source": [
    "fundFrequency = faxis[fundBin]"
   ]
  },
  {
   "cell_type": "code",
   "execution_count": null,
   "id": "strange-rebel",
   "metadata": {},
   "outputs": [],
   "source": []
  },
  {
   "cell_type": "code",
   "execution_count": 47,
   "id": "first-wisdom",
   "metadata": {},
   "outputs": [
    {
     "data": {
      "text/plain": [
       "9000.0"
      ]
     },
     "execution_count": 47,
     "metadata": {},
     "output_type": "execute_result"
    }
   ],
   "source": [
    "fundFrequency"
   ]
  },
  {
   "cell_type": "code",
   "execution_count": 48,
   "id": "respiratory-immune",
   "metadata": {},
   "outputs": [],
   "source": [
    "def getHarmonics(fund,sr,nHarmonics=6,aliased=False):\n",
    "    harmonicMultipliers = arange(2,nHarmonics+2)\n",
    "    harmonicFs = fundFrequency*harmonicMultipliers\n",
    "    print(harmonicFs)\n",
    "    if not aliased:\n",
    "        harmonicFs[harmonicFs>sr/2] = -1\n",
    "        harmonicFs = np.delete(harmonicFs,harmonicFs==-1)\n",
    "    else:\n",
    "        nyqZone = floor(harmonicFs/(sr/2))\n",
    "        oddEvenNyq = nyqZone%2  \n",
    "        print(oddEvenNyq)\n",
    "        harmonicFs = mod(harmonicFs,sr/2)\n",
    "        harmonicFs[oddEvenNyq==1] = (sr/2)-harmonicFs[oddEvenNyq==1]\n",
    "    return harmonicFs"
   ]
  },
  {
   "cell_type": "code",
   "execution_count": 49,
   "id": "governmental-island",
   "metadata": {},
   "outputs": [],
   "source": [
    "# harmonicFs[harmonicFs==-1]"
   ]
  },
  {
   "cell_type": "code",
   "execution_count": 50,
   "id": "sustainable-lotus",
   "metadata": {},
   "outputs": [
    {
     "name": "stdout",
     "output_type": "stream",
     "text": [
      "[18000. 27000. 36000. 45000. 54000. 63000.]\n",
      "[0. 1. 1. 1. 0. 0.]\n"
     ]
    },
    {
     "data": {
      "text/plain": [
       "array([18000., 21000., 12000.,  3000.,  6000., 15000.])"
      ]
     },
     "execution_count": 50,
     "metadata": {},
     "output_type": "execute_result"
    }
   ],
   "source": [
    "getHarmonics(fundFrequency,sr,aliased=True)"
   ]
  },
  {
   "cell_type": "code",
   "execution_count": 51,
   "id": "stable-chambers",
   "metadata": {},
   "outputs": [],
   "source": [
    "# nHarmonics=6\n",
    "# harmonicMultipliers = arange(2,nHarmonics+2)\n",
    "# harmonicFs = fundFrequency*harmonicMultipliers"
   ]
  },
  {
   "cell_type": "code",
   "execution_count": 52,
   "id": "stretch-coach",
   "metadata": {},
   "outputs": [
    {
     "name": "stdout",
     "output_type": "stream",
     "text": [
      "[18000. 27000. 36000. 45000. 54000. 63000.]\n",
      "[0. 1. 1. 1. 0. 0.]\n"
     ]
    }
   ],
   "source": [
    "nHarmonics = 6\n",
    "harmonicFs = getHarmonics(fundFrequency,sr,nHarmonics=nHarmonics,aliased=True)"
   ]
  },
  {
   "cell_type": "code",
   "execution_count": 53,
   "id": "flexible-document",
   "metadata": {},
   "outputs": [
    {
     "data": {
      "text/plain": [
       "array([18000., 21000., 12000.,  3000.,  6000., 15000.])"
      ]
     },
     "execution_count": 53,
     "metadata": {},
     "output_type": "execute_result"
    }
   ],
   "source": [
    "harmonicFs"
   ]
  },
  {
   "cell_type": "code",
   "execution_count": 54,
   "id": "supreme-photograph",
   "metadata": {},
   "outputs": [],
   "source": [
    "# faxis[1999]"
   ]
  },
  {
   "cell_type": "code",
   "execution_count": 55,
   "id": "computational-allowance",
   "metadata": {},
   "outputs": [
    {
     "name": "stdout",
     "output_type": "stream",
     "text": [
      "18570.0\n",
      "21000.0\n",
      "12000.0\n",
      "3000.0\n",
      "6020.0\n",
      "15120.0\n"
     ]
    }
   ],
   "source": [
    "harmonicBorders = zeros([2,nHarmonics],dtype=int16).T\n",
    "# harmonicBorders\n",
    "fullHarmonicBins = np.array([], dtype=int16)\n",
    "fullHarmonicBinList = []\n",
    "harmPeakFreqs=[]\n",
    "harmPeaks=[]\n",
    "for i,harmonic in enumerate(harmonicFs):\n",
    "    searcharea = 0.1*fundFrequency\n",
    "    estimation = harmonic\n",
    "    \n",
    "    binNum, freq = getPeakInArea(ps,faxis,estimation,searcharea)\n",
    "    harmPeakFreqs.append(freq)\n",
    "    harmPeaks.append(ps[binNum])\n",
    "    allBins = getIndizesAroundPeak(ps, binNum,searchWidth=1000)\n",
    "    fullHarmonicBins=np.append(fullHarmonicBins,allBins)\n",
    "    fullHarmonicBinList.append(allBins)\n",
    "    harmonicBorders[i,:] = [allBins[0], allBins[-1]]\n",
    "    print(freq)"
   ]
  },
  {
   "cell_type": "code",
   "execution_count": 56,
   "id": "controlling-eugene",
   "metadata": {},
   "outputs": [
    {
     "data": {
      "text/plain": [
       "array([1856, 1857, 1858, 1859, 1860, 1861, 1862, 1852, 1853, 1854, 1855,\n",
       "       2093, 2094, 2095, 2096, 2097, 2098, 2099, 2100, 2101, 2102, 2103,\n",
       "       2104, 2105, 2106, 1195, 1196, 1197, 1198, 1199, 1200, 1201, 1202,\n",
       "       1203, 1204, 1205,  293,  294,  295,  296,  297,  298,  299,  300,\n",
       "        301,  302,  303,  304,  305,  596,  597,  598,  599,  600,  601,\n",
       "        602,  603,  604,  605, 1507, 1508, 1509, 1510, 1511, 1512, 1513,\n",
       "       1514, 1515, 1516])"
      ]
     },
     "execution_count": 56,
     "metadata": {},
     "output_type": "execute_result"
    }
   ],
   "source": [
    "fullHarmonicBins"
   ]
  },
  {
   "cell_type": "code",
   "execution_count": 57,
   "id": "rental-economics",
   "metadata": {},
   "outputs": [
    {
     "data": {
      "text/plain": [
       "array([[1856, 1855],\n",
       "       [2093, 2106],\n",
       "       [1195, 1205],\n",
       "       [ 293,  305],\n",
       "       [ 596,  605],\n",
       "       [1507, 1516]], dtype=int16)"
      ]
     },
     "execution_count": 57,
     "metadata": {},
     "output_type": "execute_result"
    }
   ],
   "source": [
    "harmonicBorders"
   ]
  },
  {
   "cell_type": "code",
   "execution_count": 76,
   "id": "73c58b69-c559-4818-9e12-ac634e654b91",
   "metadata": {},
   "outputs": [
    {
     "data": {
      "text/plain": [
       "array([896, 897, 898, 899, 900, 901, 902, 903, 904, 905, 906, 907, 908,\n",
       "       909, 894, 895])"
      ]
     },
     "execution_count": 76,
     "metadata": {},
     "output_type": "execute_result"
    }
   ],
   "source": [
    "fundIndizes"
   ]
  },
  {
   "cell_type": "code",
   "execution_count": 58,
   "id": "handmade-congress",
   "metadata": {},
   "outputs": [],
   "source": [
    "# harmonics"
   ]
  },
  {
   "cell_type": "code",
   "execution_count": 59,
   "id": "moving-refund",
   "metadata": {},
   "outputs": [],
   "source": [
    "pFund = bandpower(ps[fundIndizes[0]:fundIndizes[-1]])"
   ]
  },
  {
   "cell_type": "code",
   "execution_count": 60,
   "id": "framed-pizza",
   "metadata": {},
   "outputs": [],
   "source": [
    "# fundIndizes = getIndizesAroundPeak(ps,fundamentalBin)"
   ]
  },
  {
   "cell_type": "code",
   "execution_count": 61,
   "id": "compatible-whale",
   "metadata": {},
   "outputs": [],
   "source": [
    "fundRemoved = np.delete(ps,fundIndizes)\n",
    "fAxisFundRemoved = np.delete(faxis,fundIndizes)"
   ]
  },
  {
   "cell_type": "code",
   "execution_count": 62,
   "id": "interracial-luxembourg",
   "metadata": {},
   "outputs": [
    {
     "data": {
      "text/plain": [
       "<matplotlib.legend.Legend at 0x7fdeaad8b110>"
      ]
     },
     "execution_count": 62,
     "metadata": {},
     "output_type": "execute_result"
    },
    {
     "data": {
      "image/png": "[encoded data removed]",
      "text/plain": [
       "<Figure size 432x288 with 1 Axes>"
      ]
     },
     "metadata": {},
     "output_type": "display_data"
    }
   ],
   "source": [
    "fig, ax = plt.subplots()\n",
    "arrowprops = dict(\n",
    "    arrowstyle=\"->\",\n",
    "    connectionstyle=\"angle,angleA=0,angleB=90,rad=10\")\n",
    "bbox = dict(boxstyle=\"round\", fc=\"0.8\")\n",
    "offset = 10\n",
    "\n",
    "\n",
    "plot(faxis,10*log10(ps), c='r', label='noise')\n",
    "plot(faxis[fundIndizes], 10*log10(ps[fundIndizes]), c='b', label='$f_0$')\n",
    "for i,harm in enumerate(fullHarmonicBinList):\n",
    "    plot(faxis[harm], 10*log10(ps[harm]),'k')\n",
    "#     ax=gca()\n",
    "    ax.annotate(\"f{}\".format(i+1),\n",
    "    (harmPeakFreqs[i], 10*log10(harmPeaks[i])),\n",
    "    xytext=(0, 30), textcoords='offset points',\n",
    "    bbox=bbox, arrowprops=arrowprops)\n",
    "# xlim([500, 8000])\n",
    "legend()"
   ]
  },
  {
   "cell_type": "code",
   "execution_count": 63,
   "id": "bridal-behalf",
   "metadata": {},
   "outputs": [],
   "source": [
    "# harmPeaks"
   ]
  },
  {
   "cell_type": "code",
   "execution_count": 64,
   "id": "postal-luxembourg",
   "metadata": {},
   "outputs": [],
   "source": [
    "import copy"
   ]
  },
  {
   "cell_type": "code",
   "execution_count": 65,
   "id": "handed-panama",
   "metadata": {},
   "outputs": [],
   "source": [
    "noisePrepared = copy.copy(ps)"
   ]
  },
  {
   "cell_type": "code",
   "execution_count": 66,
   "id": "latin-bronze",
   "metadata": {},
   "outputs": [],
   "source": [
    "noisePrepared[fundIndizes] = 0\n",
    "noisePrepared[fullHarmonicBins] = 0\n",
    "noiseMean = median(noisePrepared[noisePrepared!=0])\n",
    "noisePrepared[fundIndizes] = noiseMean \n",
    "noisePrepared[fullHarmonicBins] = noiseMean"
   ]
  },
  {
   "cell_type": "code",
   "execution_count": 67,
   "id": "bacterial-frost",
   "metadata": {},
   "outputs": [],
   "source": [
    "noisePower = bandpower(noisePrepared)"
   ]
  },
  {
   "cell_type": "code",
   "execution_count": 75,
   "id": "f185aa84-0975-438b-b71b-4ed50be47ed9",
   "metadata": {},
   "outputs": [
    {
     "data": {
      "text/plain": [
       "0.0"
      ]
     },
     "execution_count": 75,
     "metadata": {},
     "output_type": "execute_result"
    }
   ],
   "source": [
    "pFund"
   ]
  },
  {
   "cell_type": "code",
   "execution_count": 68,
   "id": "empirical-return",
   "metadata": {},
   "outputs": [
    {
     "name": "stderr",
     "output_type": "stream",
     "text": [
      "/opt/conda/lib/python3.7/site-packages/ipykernel_launcher.py:1: RuntimeWarning: divide by zero encountered in log10\n",
      "  \"\"\"Entry point for launching an IPython kernel.\n"
     ]
    }
   ],
   "source": [
    "r = 10*log10(pFund/noisePower)"
   ]
  },
  {
   "cell_type": "code",
   "execution_count": 69,
   "id": "soviet-sunset",
   "metadata": {},
   "outputs": [
    {
     "name": "stdout",
     "output_type": "stream",
     "text": [
      "SNR by definition, not computation: 16.989700043360187 dB\n",
      "measured SNR: -inf dB\n",
      "Noise Power: -30.761416539002507 dB\n"
     ]
    }
   ],
   "source": [
    "print('SNR by definition, not computation: {} dB'.format(defSNR))\n",
    "print('measured SNR: {} dB'.format(r))\n",
    "print('Noise Power: {} dB'.format(10*log10(noisePower)))"
   ]
  },
  {
   "cell_type": "code",
   "execution_count": 70,
   "id": "enhanced-alberta",
   "metadata": {},
   "outputs": [],
   "source": [
    "onlyNoise = fundRemoved"
   ]
  },
  {
   "cell_type": "markdown",
   "id": "tamil-consent",
   "metadata": {},
   "source": [
    "# Method 4: Std Deviation "
   ]
  },
  {
   "cell_type": "code",
   "execution_count": 71,
   "id": "interior-leader",
   "metadata": {},
   "outputs": [],
   "source": [
    "import numpy as np\n",
    "\n",
    "def signaltonoise(a, axis=0, ddof=0):\n",
    "    a = np.asanyarray(a)\n",
    "    m = a.mean(axis)\n",
    "    sd = a.std(axis=axis, ddof=ddof)\n",
    "    return np.where(sd == 0, 0, m/sd)"
   ]
  },
  {
   "cell_type": "code",
   "execution_count": 72,
   "id": "russian-mineral",
   "metadata": {},
   "outputs": [],
   "source": [
    "x = np.random.random(50)*0.5"
   ]
  },
  {
   "cell_type": "code",
   "execution_count": 73,
   "id": "wired-mirror",
   "metadata": {},
   "outputs": [
    {
     "data": {
      "text/plain": [
       "[<matplotlib.lines.Line2D at 0x7fdeaace92d0>]"
      ]
     },
     "execution_count": 73,
     "metadata": {},
     "output_type": "execute_result"
    },
    {
     "data": {
      "image/png": "[encoded data removed]",
      "text/plain": [
       "<Figure size 432x288 with 1 Axes>"
      ]
     },
     "metadata": {},
     "output_type": "display_data"
    }
   ],
   "source": [
    "plot(x)"
   ]
  },
  {
   "cell_type": "code",
   "execution_count": 74,
   "id": "excess-region",
   "metadata": {},
   "outputs": [
    {
     "data": {
      "text/plain": [
       "array(1.73986117)"
      ]
     },
     "execution_count": 74,
     "metadata": {},
     "output_type": "execute_result"
    }
   ],
   "source": [
    "signaltonoise(x)"
   ]
  },
  {
   "cell_type": "code",
   "execution_count": null,
   "id": "advisory-default",
   "metadata": {},
   "outputs": [],
   "source": []
  }
 ],
 "metadata": {
  "kernelspec": {
   "display_name": "Python 3",
   "language": "python",
   "name": "python3"
  },
  "language_info": {
   "codemirror_mode": {
    "name": "ipython",
    "version": 3
   },
   "file_extension": ".py",
   "mimetype": "text/x-python",
   "name": "python",
   "nbconvert_exporter": "python",
   "pygments_lexer": "ipython3",
   "version": "3.7.7"
  }
 },
 "nbformat": 4,
 "nbformat_minor": 5
}
