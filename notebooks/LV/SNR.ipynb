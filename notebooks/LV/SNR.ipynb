{
 "cells": [
  {
   "cell_type": "markdown",
   "id": "provincial-finland",
   "metadata": {},
   "source": [
    "# Signal to Noise Ratio (SNR)\n",
    "\n",
    "## Basic Definition\n",
    "The main idea is to make a *ratio* between signal power to noise power.\n",
    "\n",
    "$$ SNR = \\frac{P_{signal}}{P_{noise}} $$\n",
    "\n",
    "So we need to measure the *power* $P(x)$ of a signal $x$,  via:\n",
    "\n",
    "$$P(x)=1/N \\cdot \\displaystyle\\sum_{n=0}^{N-1}x(n)^2$$\n",
    "\n",
    "Which is simply taking the square of the signal and then the average.\n",
    "We can then calculate the $SNR$ via the power ratios:\n",
    "\n",
    "$$ SNR = \\frac{P_{signal}}{P_{noise}}$$\n",
    "\n",
    "Typically we want to have the values in dB. Since we have power signals alread we need to use \n",
    "\n",
    "$$P_{db} = 10 \\cdot log_{10} (P) $$\n",
    "\n",
    "So\n",
    "$$ SNR_{db} = 10 \\log_{10} \\frac{P_{signal}}{P_{noise}}$$\n",
    "\n",
    "This is it. Actually, we can also convert the power levels first to dB and then subtract (subtracting to logarithmic values is the same as dividing to linear ones):\n",
    "\n",
    "\n",
    "$$ \n",
    "10 \\log_{10} \\left ( \\frac{P_\\mathrm{signal}}{P_\\mathrm{noise}} \\right ) = 10 \\log_{10} \\left ( P_\\mathrm{signal} \\right ) - 10 \\log_{10} \\left ( P_\\mathrm{noise} \\right )\n",
    "$$\n",
    "\n",
    "\n",
    "## Measuring\n",
    "\n",
    "### Method 1\n",
    "Sometimes, the question arises how to get the noise and the Signal separately.\n",
    "One method is to measure the constant noise power a device *produces without an input*, let's call that $P_n$ and measure the power of the output of a device *with* an input, lets call that $P_s$. By subtraction of the powers, we can estimate the power of the signal alone and therefore the ratio between signal and noise power (assuming noise power stays constant).     \n",
    "\n",
    "$$ SNR_{db}=10 \\cdot \\log_{10} \\frac {P_s - P_n}{P_n}$$\n",
    "\n",
    "- $P(s)$ is a function that computes the power of a signal.\n",
    "- $P_s$ in this case is the power of the signal + the noise, typically the output of the system we want to measure **with** an input signal.\n",
    "- $P_n$ in this case is the power of just the noise, typically the output of the system we want to measure **without** an input signal.\n",
    "\n",
    "### Method 2\n",
    "Another method is to try to make the system as clean as possible (eg bypass or similar *at unity gain!*), measure input signal power $P_i$ and output signal power $P_o$ and just assume that the difference between them is the level of noise being added:\n",
    "$$ P_n = P_o - P_i $$\n",
    "The rest of the comutation stays the same as Method 1.\n",
    "\n",
    "\n",
    "### Method 3: Spectral\n",
    "\n",
    "### Method 4: Standard deviation \n",
    "This method can be found all over the internet but is not so interesting for us. \n",
    "e.g. `scipy.stats.signaltonoise()`\n",
    "The idea is to  *[TODO]*\n",
    "\n",
    "\n",
    "## refs:\n",
    "- https://en.wikipedia.org/wiki/Signal-to-noise_ratio\n",
    "- https://de.mathworks.com/help/signal/ref/snr.html\n",
    "- https://dsp.stackexchange.com/questions/17871/how-to-calculate-signal-to-noise-ratio\n",
    "\n"
   ]
  },
  {
   "cell_type": "markdown",
   "id": "adequate-battlefield",
   "metadata": {},
   "source": [
    "# Setup"
   ]
  },
  {
   "cell_type": "code",
   "execution_count": 1,
   "id": "prescribed-farmer",
   "metadata": {},
   "outputs": [
    {
     "name": "stdout",
     "output_type": "stream",
     "text": [
      "Populating the interactive namespace from numpy and matplotlib\n"
     ]
    }
   ],
   "source": [
    "%pylab inline"
   ]
  },
  {
   "cell_type": "code",
   "execution_count": 2,
   "id": "russian-happiness",
   "metadata": {},
   "outputs": [],
   "source": [
    "# !pip install seaborn"
   ]
  },
  {
   "cell_type": "code",
   "execution_count": 3,
   "id": "broad-actress",
   "metadata": {},
   "outputs": [],
   "source": [
    "import seaborn as sn"
   ]
  },
  {
   "cell_type": "code",
   "execution_count": 4,
   "id": "packed-queens",
   "metadata": {},
   "outputs": [],
   "source": [
    "sn.set_theme()"
   ]
  },
  {
   "cell_type": "code",
   "execution_count": 5,
   "id": "precise-isolation",
   "metadata": {},
   "outputs": [],
   "source": [
    "def exampleSystem(x, noiseAmount =-50):\n",
    "    N = len(x)\n",
    "    noise = (random.random(N)*2-1) * 10**(noiseAmount/10) \n",
    "    y = x+noise\n",
    "    return y"
   ]
  },
  {
   "cell_type": "code",
   "execution_count": 6,
   "id": "gorgeous-speech",
   "metadata": {},
   "outputs": [],
   "source": [
    "sr = 48000\n",
    "T = 0.1 #seconds\n",
    "N = int(T*sr)\n",
    "n = arange(N)\n",
    "t = n/sr\n",
    "\n",
    "silence = zeros(N)"
   ]
  },
  {
   "cell_type": "code",
   "execution_count": 7,
   "id": "transparent-console",
   "metadata": {},
   "outputs": [],
   "source": [
    "noiseOnly = exampleSystem(silence) #system Output without signal at input"
   ]
  },
  {
   "cell_type": "code",
   "execution_count": 8,
   "id": "exotic-distinction",
   "metadata": {},
   "outputs": [
    {
     "data": {
      "text/plain": [
       "[<matplotlib.lines.Line2D at 0x7f3b65de0050>]"
      ]
     },
     "execution_count": 8,
     "metadata": {},
     "output_type": "execute_result"
    },
    {
     "data": {
      "image/png": "[encoded data removed]",
      "text/plain": [
       "<Figure size 432x288 with 1 Axes>"
      ]
     },
     "metadata": {},
     "output_type": "display_data"
    }
   ],
   "source": [
    "plot(noiseOnly)"
   ]
  },
  {
   "cell_type": "code",
   "execution_count": 9,
   "id": "biological-rescue",
   "metadata": {},
   "outputs": [],
   "source": [
    "freq = 1000 #Hz\n",
    "exampleInput = sin(2*pi*freq*t)"
   ]
  },
  {
   "cell_type": "code",
   "execution_count": 10,
   "id": "insured-richmond",
   "metadata": {},
   "outputs": [],
   "source": [
    "exampleOutput = exampleSystem(exampleInput)"
   ]
  },
  {
   "cell_type": "code",
   "execution_count": 11,
   "id": "confused-rhythm",
   "metadata": {},
   "outputs": [
    {
     "data": {
      "text/plain": [
       "[<matplotlib.lines.Line2D at 0x7f3b6504ddd0>]"
      ]
     },
     "execution_count": 11,
     "metadata": {},
     "output_type": "execute_result"
    },
    {
     "data": {
      "image/png": "[encoded data removed]",
      "text/plain": [
       "<Figure size 432x288 with 1 Axes>"
      ]
     },
     "metadata": {},
     "output_type": "display_data"
    }
   ],
   "source": [
    "plot(exampleOutput)"
   ]
  },
  {
   "cell_type": "markdown",
   "id": "planned-jason",
   "metadata": {},
   "source": [
    "# Method 1 & 2"
   ]
  },
  {
   "cell_type": "code",
   "execution_count": 12,
   "id": "needed-skirt",
   "metadata": {},
   "outputs": [],
   "source": [
    "def signalPower(x):\n",
    "    return average(x**2)"
   ]
  },
  {
   "cell_type": "code",
   "execution_count": 13,
   "id": "breathing-breast",
   "metadata": {},
   "outputs": [],
   "source": [
    "def SNR(signal, noise):\n",
    "    powS = signalPower(signal)\n",
    "    powN = signalPower(noise)\n",
    "    return 10*log10((powS-powN)/powN)"
   ]
  },
  {
   "cell_type": "code",
   "execution_count": 14,
   "id": "forced-buffalo",
   "metadata": {},
   "outputs": [],
   "source": [
    "def SNRsystem(inputSig, outputSig):\n",
    "    noise = outputSig-inputSig\n",
    "    \n",
    "    powS = signalPower(outputSig)\n",
    "    powN = signalPower(noise)\n",
    "    return 10*log10((powS-powN)/powN)"
   ]
  },
  {
   "cell_type": "code",
   "execution_count": 15,
   "id": "protective-vocabulary",
   "metadata": {},
   "outputs": [
    {
     "data": {
      "text/plain": [
       "101.69884959997628"
      ]
     },
     "execution_count": 15,
     "metadata": {},
     "output_type": "execute_result"
    }
   ],
   "source": [
    "SNR(exampleOutput,noiseOnly)"
   ]
  },
  {
   "cell_type": "code",
   "execution_count": 16,
   "id": "acknowledged-thirty",
   "metadata": {},
   "outputs": [
    {
     "data": {
      "text/plain": [
       "101.69164570398095"
      ]
     },
     "execution_count": 16,
     "metadata": {},
     "output_type": "execute_result"
    }
   ],
   "source": [
    "SNRsystem(exampleInput,exampleOutput)"
   ]
  },
  {
   "cell_type": "markdown",
   "id": "suspended-running",
   "metadata": {},
   "source": [
    "# Method 3: Spectral\n",
    "## TODO\n",
    "- Working, but needs clean-up\n",
    "- can't deal with harmonics, need to detect them like fundamental, take them out, etc.\n",
    "\n",
    "If N doubles, measured noise level in spectrogram goes down by 3 dB.\n",
    "\n",
    "- https://de.mathworks.com/help/signal/ref/bandpower.html\n",
    "- http://classes.engr.oregonstate.edu/eecs/spring2017/ece627/Lecture%20Notes/FFT%20for%20delta-sigma%20spectrum%20estimation.pdf\n",
    "- https://de.mathworks.com/help/signal/ref/snr.html\n",
    "- https://training.ti.com/sites/default/files/docs/TIPL%204703%20-%20Understanding%20Signal%20to%20Noise%20Ratio%20and%20Noise%20Spectral%20Density%20in%20High%20Speed%20Datat%20Converters_3.pdf"
   ]
  },
  {
   "cell_type": "code",
   "execution_count": 17,
   "id": "alive-presentation",
   "metadata": {},
   "outputs": [],
   "source": [
    "from scipy.stats import norm\n",
    "np.random.seed(1) #reproducability"
   ]
  },
  {
   "cell_type": "code",
   "execution_count": 18,
   "id": "incomplete-damages",
   "metadata": {},
   "outputs": [],
   "source": [
    "# matlab like randn function, for comparison reasons with matlab code. Only needed to create test signal.\n",
    "matlabRandn = lambda n:norm.ppf(np.random.rand(1,n)).flatten()"
   ]
  },
  {
   "cell_type": "code",
   "execution_count": 19,
   "id": "secondary-census",
   "metadata": {},
   "outputs": [],
   "source": [
    "A = 1.0\n",
    "a = 0.0\n",
    "s = 0.1\n",
    "powFund = A**2/2\n",
    "powHarm = a**2/2\n",
    "varnoise = s**2\n",
    "f0 = 9000#*(sr/2)\n",
    "h1 = 20000\n",
    "x = A * cos(pi*2*f0*t)+a*sin(pi*2*t*h1)+s*matlabRandn(len(t))\n",
    "x = tanh(x*2)"
   ]
  },
  {
   "cell_type": "code",
   "execution_count": 20,
   "id": "distributed-cedar",
   "metadata": {},
   "outputs": [],
   "source": [
    "x = x-mean(x) #remove DC first!!"
   ]
  },
  {
   "cell_type": "code",
   "execution_count": 21,
   "id": "coral-myrtle",
   "metadata": {},
   "outputs": [
    {
     "name": "stdout",
     "output_type": "stream",
     "text": [
      "SNR by definition, not computation: 16.989700043360187 dB\n"
     ]
    }
   ],
   "source": [
    "defSNR = 10*log10(powFund/varnoise)\n",
    "print('SNR by definition, not computation: {} dB'.format(defSNR))"
   ]
  },
  {
   "cell_type": "code",
   "execution_count": 23,
   "id": "alternate-tattoo",
   "metadata": {},
   "outputs": [],
   "source": [
    "# spec = fft.rfft(exampleOutput,norm='ortho')\n",
    "# \n",
    "# magnitude = abs(spec)\n",
    "# powerSpec = magnitude**2\n",
    "# dbPow = 20*log10(powerSpec)"
   ]
  },
  {
   "cell_type": "code",
   "execution_count": 24,
   "id": "figured-atmosphere",
   "metadata": {},
   "outputs": [],
   "source": [
    "# fundamentalBin = peakdetect.detect_peaks(magnitude,threshold=100)\n",
    "# fundamentalFreq = (fundamentalBin/len(spec-1))*(sr/2)"
   ]
  },
  {
   "cell_type": "code",
   "execution_count": 25,
   "id": "academic-provider",
   "metadata": {},
   "outputs": [],
   "source": [
    "# stem(freqAxis, dbPow, label= 'mag spectrum')\n",
    "# scatter(fundamentalFreq, dbMag[fundamentalBin], marker='x', color='r',label='peak')\n",
    "# xlim([0,100])\n",
    "# legend()"
   ]
  },
  {
   "cell_type": "code",
   "execution_count": 26,
   "id": "surprising-singles",
   "metadata": {},
   "outputs": [],
   "source": [
    "import scipy.signal as sig"
   ]
  },
  {
   "cell_type": "code",
   "execution_count": 27,
   "id": "eight-london",
   "metadata": {},
   "outputs": [],
   "source": [
    "# f, Pxx_spec = sig.welch(exampleOutput,fs=sr)"
   ]
  },
  {
   "cell_type": "code",
   "execution_count": 28,
   "id": "incident-librarian",
   "metadata": {},
   "outputs": [
    {
     "data": {
      "image/png": "[encoded data removed]",
      "text/plain": [
       "<Figure size 432x288 with 1 Axes>"
      ]
     },
     "metadata": {},
     "output_type": "display_data"
    }
   ],
   "source": [
    "faxis,ps = sig.periodogram(x,fs=sr, window=('kaiser',38),)#,scaling='spectrum')\n",
    "fundBin = argmax(ps) \n",
    "\n",
    "_=plot(faxis,10*log10(ps))"
   ]
  },
  {
   "cell_type": "code",
   "execution_count": 29,
   "id": "handmade-editing",
   "metadata": {},
   "outputs": [],
   "source": [
    "# t = linspace(0,1,1000);\n",
    "# x = cos(2*pi*100*t)+matlabRandn(len(t));\n",
    "# l2norm = linalg.norm(x)**2./len(x)"
   ]
  },
  {
   "cell_type": "code",
   "execution_count": 30,
   "id": "corporate-colorado",
   "metadata": {},
   "outputs": [],
   "source": [
    "# l2norm"
   ]
  },
  {
   "cell_type": "code",
   "execution_count": 31,
   "id": "ahead-eight",
   "metadata": {},
   "outputs": [],
   "source": [
    "def bandpower(ps, mode='psd'):\n",
    "    \"\"\"\n",
    "    estimate bandpower, see https://de.mathworks.com/help/signal/ref/bandpower.html\n",
    "    \"\"\"\n",
    "    if mode=='time':\n",
    "        x = ps\n",
    "        l2norm = linalg.norm(x)**2./len(x)\n",
    "        return l2norm\n",
    "    elif mode == 'psd':\n",
    "        return sum(ps)        "
   ]
  },
  {
   "cell_type": "code",
   "execution_count": 32,
   "id": "happy-allen",
   "metadata": {},
   "outputs": [],
   "source": [
    "# plot(faxis,10*log10(ps))"
   ]
  },
  {
   "cell_type": "code",
   "execution_count": 33,
   "id": "outer-sponsorship",
   "metadata": {},
   "outputs": [],
   "source": [
    "# stem(dbMag, label= 'mag spectrum')\n",
    "# # scatter(fundamentalFreq, dbMag[fundamentalBin], marker='x', color='r',label='peak')\n",
    "# xlim([0,20])\n",
    "# legend()"
   ]
  },
  {
   "cell_type": "code",
   "execution_count": 34,
   "id": "respective-today",
   "metadata": {},
   "outputs": [],
   "source": [
    "def getIndizesAroundPeak(arr, peakIndex,searchWidth=1000):\n",
    "    peakBins = []\n",
    "    magMax = arr[peakIndex]\n",
    "    curVal = magMax\n",
    "    for i in range(searchWidth):\n",
    "        newBin = peakIndex+i\n",
    "        newVal = arr[newBin]\n",
    "        if newVal>curVal:\n",
    "            break\n",
    "        else:\n",
    "            peakBins.append(int(newBin))\n",
    "            curVal=newVal\n",
    "    curVal = magMax\n",
    "    for i in range(searchWidth):\n",
    "        newBin = peakIndex-i\n",
    "        newVal = arr[newBin]\n",
    "        if newVal>curVal:\n",
    "            break\n",
    "        else:\n",
    "            peakBins.append(int(newBin))\n",
    "            curVal=newVal\n",
    "    return array(list(set(peakBins)))\n",
    "\n"
   ]
  },
  {
   "cell_type": "code",
   "execution_count": 35,
   "id": "entitled-shore",
   "metadata": {},
   "outputs": [],
   "source": [
    "def freqToBin(fAxis, Freq):\n",
    "    return argmin(abs(fAxis-Freq))\n",
    "\n",
    "def getPeakInArea(psd, faxis, estimation, searchWidthHz = 10):\n",
    "    \"\"\"\n",
    "    returns bin and frequency of the maximum in an area\n",
    "    \"\"\"\n",
    "    binLow = freqToBin(faxis, estimation-searchWidthHz)\n",
    "    binHi = freqToBin(faxis, estimation+searchWidthHz)\n",
    "    peakbin = binLow+argmax(psd[binLow:binHi])\n",
    "    return peakbin, faxis[peakbin]\n",
    "\n",
    "def getHarmonics(fund,sr,nHarmonics=6,aliased=False):\n",
    "    harmonicMultipliers = arange(2,nHarmonics+2)\n",
    "    harmonicFs = fundFrequency*harmonicMultipliers\n",
    "    print(harmonicFs)\n",
    "    if not aliased:\n",
    "        harmonicFs[harmonicFs>sr/2] = -1\n",
    "        harmonicFs = np.delete(harmonicFs,harmonicFs==-1)\n",
    "    else:\n",
    "        nyqZone = floor(harmonicFs/(sr/2))\n",
    "        oddEvenNyq = nyqZone%2  \n",
    "        print(oddEvenNyq)\n",
    "        harmonicFs = mod(harmonicFs,sr/2)\n",
    "        harmonicFs[oddEvenNyq==1] = (sr/2)-harmonicFs[oddEvenNyq==1]\n",
    "    return harmonicFs   "
   ]
  },
  {
   "cell_type": "code",
   "execution_count": null,
   "id": "single-animation",
   "metadata": {},
   "outputs": [],
   "source": []
  },
  {
   "cell_type": "code",
   "execution_count": 36,
   "id": "interior-spread",
   "metadata": {},
   "outputs": [
    {
     "data": {
      "image/png": "[encoded data removed]",
      "text/plain": [
       "<Figure size 432x288 with 1 Axes>"
      ]
     },
     "metadata": {},
     "output_type": "display_data"
    }
   ],
   "source": [
    "faxis,ps = sig.periodogram(x,fs=sr, window=('kaiser',38),)#,scaling='spectrum')\n",
    "fundBin = argmax(ps) \n",
    "\n",
    "fundIndizes = getIndizesAroundPeak(ps,fundBin)\n",
    "fundFrequency = faxis[fundBin]\n",
    "\n",
    "_=plot(faxis,10*log10(ps))"
   ]
  },
  {
   "cell_type": "code",
   "execution_count": null,
   "id": "julian-produce",
   "metadata": {},
   "outputs": [],
   "source": []
  },
  {
   "cell_type": "code",
   "execution_count": 37,
   "id": "going-ireland",
   "metadata": {},
   "outputs": [],
   "source": [
    "# def getHarmonics(fund,sr,nHarmonics=6,aliased=False):\n",
    "#     harmonicMultipliers = arange(2,nHarmonics+2)\n",
    "#     harmonicFs = fundFrequency*harmonicMultipliers\n",
    "#     print(harmonicFs)\n",
    "#     if not aliased:\n",
    "#         harmonicFs[harmonicFs>sr/2] = -1\n",
    "#         harmonicFs = np.delete(harmonicFs,harmonicFs==-1)\n",
    "#     else:\n",
    "#         nyqZone = floor(harmonicFs/(sr/2))\n",
    "#         oddEvenNyq = nyqZone%2  \n",
    "#         print(oddEvenNyq)\n",
    "#         harmonicFs = mod(harmonicFs,sr/2)\n",
    "#         harmonicFs[oddEvenNyq==1] = (sr/2)-harmonicFs[oddEvenNyq==1]\n",
    "#     return harmonicFs"
   ]
  },
  {
   "cell_type": "code",
   "execution_count": 38,
   "id": "immune-township",
   "metadata": {},
   "outputs": [],
   "source": [
    "# harmonicFs[harmonicFs==-1]"
   ]
  },
  {
   "cell_type": "code",
   "execution_count": 39,
   "id": "unsigned-commercial",
   "metadata": {},
   "outputs": [],
   "source": [
    "# getHarmonics(fundFrequency,sr,aliased=True)"
   ]
  },
  {
   "cell_type": "code",
   "execution_count": 40,
   "id": "immediate-watch",
   "metadata": {},
   "outputs": [],
   "source": [
    "# nHarmonics=6\n",
    "# harmonicMultipliers = arange(2,nHarmonics+2)\n",
    "# harmonicFs = fundFrequency*harmonicMultipliers"
   ]
  },
  {
   "cell_type": "code",
   "execution_count": 41,
   "id": "written-sociology",
   "metadata": {},
   "outputs": [
    {
     "name": "stdout",
     "output_type": "stream",
     "text": [
      "[18000. 27000. 36000. 45000. 54000. 63000.]\n",
      "[0. 1. 1. 1. 0. 0.]\n"
     ]
    }
   ],
   "source": [
    "nHarmonics = 6\n",
    "harmonicFs = getHarmonics(fundFrequency,sr,nHarmonics=nHarmonics,aliased=True)"
   ]
  },
  {
   "cell_type": "code",
   "execution_count": 42,
   "id": "located-domain",
   "metadata": {},
   "outputs": [],
   "source": [
    "# harmonicFs"
   ]
  },
  {
   "cell_type": "code",
   "execution_count": 43,
   "id": "statistical-commodity",
   "metadata": {},
   "outputs": [],
   "source": [
    "# faxis[1999]"
   ]
  },
  {
   "cell_type": "code",
   "execution_count": 44,
   "id": "female-wildlife",
   "metadata": {},
   "outputs": [
    {
     "name": "stdout",
     "output_type": "stream",
     "text": [
      "18570.0\n",
      "21000.0\n",
      "12000.0\n",
      "3000.0\n",
      "6020.0\n",
      "15120.0\n"
     ]
    }
   ],
   "source": [
    "harmonicBorders = zeros([2,nHarmonics],dtype=int16).T\n",
    "# harmonicBorders\n",
    "fullHarmonicBins = np.array([], dtype=int16)\n",
    "fullHarmonicBinList = []\n",
    "harmPeakFreqs=[]\n",
    "harmPeaks=[]\n",
    "for i,harmonic in enumerate(harmonicFs):\n",
    "    searcharea = 0.1*fundFrequency\n",
    "    estimation = harmonic\n",
    "    \n",
    "    binNum, freq = getPeakInArea(ps,faxis,estimation,searcharea)\n",
    "    harmPeakFreqs.append(freq)\n",
    "    harmPeaks.append(ps[binNum])\n",
    "    allBins = getIndizesAroundPeak(ps, binNum,searchWidth=1000)\n",
    "    fullHarmonicBins=np.append(fullHarmonicBins,allBins)\n",
    "    fullHarmonicBinList.append(allBins)\n",
    "    harmonicBorders[i,:] = [allBins[0], allBins[-1]]\n",
    "    print(freq)"
   ]
  },
  {
   "cell_type": "code",
   "execution_count": 45,
   "id": "fancy-government",
   "metadata": {},
   "outputs": [],
   "source": [
    "fundIndizes.sort()"
   ]
  },
  {
   "cell_type": "code",
   "execution_count": 46,
   "id": "legendary-minneapolis",
   "metadata": {},
   "outputs": [],
   "source": [
    "pFund = bandpower(ps[fundIndizes[0]:fundIndizes[-1]])"
   ]
  },
  {
   "cell_type": "code",
   "execution_count": 47,
   "id": "hawaiian-effort",
   "metadata": {},
   "outputs": [],
   "source": [
    "fundRemoved = np.delete(ps,fundIndizes)\n",
    "fAxisFundRemoved = np.delete(faxis,fundIndizes)"
   ]
  },
  {
   "cell_type": "code",
   "execution_count": 48,
   "id": "great-socket",
   "metadata": {},
   "outputs": [],
   "source": [
    "def plotSNR(ps, faxis, fundIndizes, fullHarmonicBinList, harmPeaks, harmPeakFreqs, ):\n",
    "    fig, ax = plt.subplots()\n",
    "    arrowprops = dict(\n",
    "        arrowstyle=\"->\",\n",
    "        connectionstyle=\"angle,angleA=0,angleB=90,rad=10\")\n",
    "    bbox = dict(boxstyle=\"round\", fc=\"0.8\")\n",
    "    offset = 10\n",
    "\n",
    "\n",
    "    plot(faxis,10*log10(ps), c='r', label='noise')\n",
    "    plot(faxis[fundIndizes], 10*log10(ps[fundIndizes]), c='b', label='$f_0$')\n",
    "    for i,harm in enumerate(fullHarmonicBinList):\n",
    "        plot(faxis[harm], 10*log10(ps[harm]),'k')\n",
    "\n",
    "        ax.annotate(\"f{}\".format(i+1),\n",
    "        (harmPeakFreqs[i], 10*log10(harmPeaks[i])),\n",
    "        xytext=(0, 30), textcoords='offset points',\n",
    "        bbox=bbox, arrowprops=arrowprops)\n",
    "\n",
    "    legend()\n",
    "    return"
   ]
  },
  {
   "cell_type": "code",
   "execution_count": 49,
   "id": "legitimate-weather",
   "metadata": {},
   "outputs": [
    {
     "data": {
      "image/png": "[encoded data removed]",
      "text/plain": [
       "<Figure size 432x288 with 1 Axes>"
      ]
     },
     "metadata": {},
     "output_type": "display_data"
    }
   ],
   "source": [
    "plotSNR(ps,faxis, fundIndizes,fullHarmonicBinList,harmPeaks,harmPeakFreqs)"
   ]
  },
  {
   "cell_type": "code",
   "execution_count": 50,
   "id": "infrared-broadcasting",
   "metadata": {},
   "outputs": [],
   "source": [
    "# fig, ax = plt.subplots()\n",
    "# arrowprops = dict(\n",
    "#     arrowstyle=\"->\",\n",
    "#     connectionstyle=\"angle,angleA=0,angleB=90,rad=10\")\n",
    "# bbox = dict(boxstyle=\"round\", fc=\"0.8\")\n",
    "# offset = 10\n",
    "\n",
    "\n",
    "# plot(faxis,10*log10(ps), c='r', label='noise')\n",
    "# plot(faxis[fundIndizes], 10*log10(ps[fundIndizes]), c='b', label='$f_0$')\n",
    "# for i,harm in enumerate(fullHarmonicBinList):\n",
    "#     plot(faxis[harm], 10*log10(ps[harm]),'k')\n",
    "# #     ax=gca()\n",
    "#     ax.annotate(\"f{}\".format(i+1),\n",
    "#     (harmPeakFreqs[i], 10*log10(harmPeaks[i])),\n",
    "#     xytext=(0, 30), textcoords='offset points',\n",
    "#     bbox=bbox, arrowprops=arrowprops)\n",
    "# # xlim([500, 8000])\n",
    "# legend()"
   ]
  },
  {
   "cell_type": "code",
   "execution_count": 51,
   "id": "basic-locking",
   "metadata": {},
   "outputs": [],
   "source": [
    "# harmPeaks"
   ]
  },
  {
   "cell_type": "code",
   "execution_count": 52,
   "id": "everyday-glass",
   "metadata": {},
   "outputs": [],
   "source": [
    "import copy"
   ]
  },
  {
   "cell_type": "code",
   "execution_count": 53,
   "id": "random-blair",
   "metadata": {},
   "outputs": [],
   "source": [
    "noisePrepared = copy.copy(ps)"
   ]
  },
  {
   "cell_type": "code",
   "execution_count": 54,
   "id": "upset-probe",
   "metadata": {},
   "outputs": [],
   "source": [
    "noisePrepared[fundIndizes] = 0\n",
    "noisePrepared[fullHarmonicBins] = 0\n",
    "noiseMean = median(noisePrepared[noisePrepared!=0])\n",
    "noisePrepared[fundIndizes] = noiseMean \n",
    "noisePrepared[fullHarmonicBins] = noiseMean"
   ]
  },
  {
   "cell_type": "code",
   "execution_count": 55,
   "id": "adopted-evans",
   "metadata": {},
   "outputs": [],
   "source": [
    "noisePower = bandpower(noisePrepared)"
   ]
  },
  {
   "cell_type": "code",
   "execution_count": 56,
   "id": "earlier-richardson",
   "metadata": {},
   "outputs": [],
   "source": [
    "r = 10*log10(pFund/noisePower)"
   ]
  },
  {
   "cell_type": "code",
   "execution_count": 57,
   "id": "western-relevance",
   "metadata": {},
   "outputs": [
    {
     "name": "stdout",
     "output_type": "stream",
     "text": [
      "SNR by definition, not computation: 16.989700043360187 dB\n",
      "measured SNR: 18.66659501460589 dB\n",
      "Noise Power: -30.761416539002507 dB\n"
     ]
    }
   ],
   "source": [
    "print('SNR by definition, not computation: {} dB'.format(defSNR))\n",
    "print('measured SNR: {} dB'.format(r))\n",
    "print('Noise Power: {} dB'.format(10*log10(noisePower)))"
   ]
  },
  {
   "cell_type": "code",
   "execution_count": 58,
   "id": "healthy-letters",
   "metadata": {},
   "outputs": [],
   "source": [
    "onlyNoise = fundRemoved"
   ]
  },
  {
   "cell_type": "markdown",
   "id": "developmental-coalition",
   "metadata": {},
   "source": [
    "# Method 4: Std Deviation "
   ]
  },
  {
   "cell_type": "code",
   "execution_count": 59,
   "id": "detailed-display",
   "metadata": {},
   "outputs": [],
   "source": [
    "import numpy as np\n",
    "\n",
    "def signaltonoise(a, axis=0, ddof=0):\n",
    "    a = np.asanyarray(a)\n",
    "    m = a.mean(axis)\n",
    "    sd = a.std(axis=axis, ddof=ddof)\n",
    "    return np.where(sd == 0, 0, m/sd)"
   ]
  },
  {
   "cell_type": "code",
   "execution_count": 60,
   "id": "afraid-bishop",
   "metadata": {},
   "outputs": [],
   "source": [
    "x = np.random.random(50)*0.5"
   ]
  },
  {
   "cell_type": "code",
   "execution_count": 61,
   "id": "foreign-father",
   "metadata": {},
   "outputs": [
    {
     "data": {
      "text/plain": [
       "[<matplotlib.lines.Line2D at 0x7f3b645912d0>]"
      ]
     },
     "execution_count": 61,
     "metadata": {},
     "output_type": "execute_result"
    },
    {
     "data": {
      "image/png": "[encoded data removed]",
      "text/plain": [
       "<Figure size 432x288 with 1 Axes>"
      ]
     },
     "metadata": {},
     "output_type": "display_data"
    }
   ],
   "source": [
    "plot(x)"
   ]
  },
  {
   "cell_type": "code",
   "execution_count": 62,
   "id": "smaller-headset",
   "metadata": {},
   "outputs": [
    {
     "data": {
      "text/plain": [
       "array(1.73986117)"
      ]
     },
     "execution_count": 62,
     "metadata": {},
     "output_type": "execute_result"
    }
   ],
   "source": [
    "signaltonoise(x)"
   ]
  },
  {
   "cell_type": "code",
   "execution_count": null,
   "id": "willing-vintage",
   "metadata": {},
   "outputs": [],
   "source": []
  }
 ],
 "metadata": {
  "kernelspec": {
   "display_name": "Python 3",
   "language": "python",
   "name": "python3"
  },
  "language_info": {
   "codemirror_mode": {
    "name": "ipython",
    "version": 3
   },
   "file_extension": ".py",
   "mimetype": "text/x-python",
   "name": "python",
   "nbconvert_exporter": "python",
   "pygments_lexer": "ipython3",
   "version": "3.7.4"
  }
 },
 "nbformat": 4,
 "nbformat_minor": 5
}
